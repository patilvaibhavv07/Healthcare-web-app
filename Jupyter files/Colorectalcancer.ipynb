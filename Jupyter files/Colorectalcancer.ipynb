{
 "cells": [
  {
   "cell_type": "code",
   "execution_count": 1,
   "id": "c8e9b871",
   "metadata": {},
   "outputs": [],
   "source": [
    "import pandas as pd\n",
    "import numpy as np\n",
    "import matplotlib.pyplot as plt\n",
    "import seaborn as sns\n",
    "import warnings\n",
    "warnings.filterwarnings(action='ignore')\n",
    "plt.style.use(['dark_background','seaborn-bright'])"
   ]
  },
  {
   "cell_type": "code",
   "execution_count": 3,
   "id": "a82f556a",
   "metadata": {},
   "outputs": [
    {
     "data": {
      "text/html": [
       "<div>\n",
       "<style scoped>\n",
       "    .dataframe tbody tr th:only-of-type {\n",
       "        vertical-align: middle;\n",
       "    }\n",
       "\n",
       "    .dataframe tbody tr th {\n",
       "        vertical-align: top;\n",
       "    }\n",
       "\n",
       "    .dataframe thead th {\n",
       "        text-align: right;\n",
       "    }\n",
       "</style>\n",
       "<table border=\"1\" class=\"dataframe\">\n",
       "  <thead>\n",
       "    <tr style=\"text-align: right;\">\n",
       "      <th></th>\n",
       "      <th>Unnamed: 0</th>\n",
       "      <th>ID_REF</th>\n",
       "      <th>Age (in years)</th>\n",
       "      <th>Dukes Stage</th>\n",
       "      <th>Gender</th>\n",
       "      <th>Location</th>\n",
       "      <th>DFS (in months)</th>\n",
       "      <th>DFS event</th>\n",
       "      <th>Adj_Radio</th>\n",
       "      <th>Adj_Chem</th>\n",
       "    </tr>\n",
       "  </thead>\n",
       "  <tbody>\n",
       "    <tr>\n",
       "      <th>0</th>\n",
       "      <td>0</td>\n",
       "      <td>GSM877126</td>\n",
       "      <td>62.0</td>\n",
       "      <td>A</td>\n",
       "      <td>Male</td>\n",
       "      <td>Left</td>\n",
       "      <td>108.0</td>\n",
       "      <td>0.0</td>\n",
       "      <td>1.0</td>\n",
       "      <td>0.0</td>\n",
       "    </tr>\n",
       "    <tr>\n",
       "      <th>1</th>\n",
       "      <td>1</td>\n",
       "      <td>GSM877127</td>\n",
       "      <td>77.0</td>\n",
       "      <td>B</td>\n",
       "      <td>Male</td>\n",
       "      <td>Left</td>\n",
       "      <td>40.0</td>\n",
       "      <td>1.0</td>\n",
       "      <td>1.0</td>\n",
       "      <td>0.0</td>\n",
       "    </tr>\n",
       "    <tr>\n",
       "      <th>2</th>\n",
       "      <td>2</td>\n",
       "      <td>GSM877128</td>\n",
       "      <td>66.0</td>\n",
       "      <td>C</td>\n",
       "      <td>Female</td>\n",
       "      <td>Left</td>\n",
       "      <td>49.0</td>\n",
       "      <td>0.0</td>\n",
       "      <td>1.0</td>\n",
       "      <td>0.0</td>\n",
       "    </tr>\n",
       "    <tr>\n",
       "      <th>3</th>\n",
       "      <td>3</td>\n",
       "      <td>GSM877129</td>\n",
       "      <td>72.0</td>\n",
       "      <td>D</td>\n",
       "      <td>Female</td>\n",
       "      <td>Left</td>\n",
       "      <td>45.0</td>\n",
       "      <td>0.0</td>\n",
       "      <td>1.0</td>\n",
       "      <td>1.0</td>\n",
       "    </tr>\n",
       "    <tr>\n",
       "      <th>4</th>\n",
       "      <td>4</td>\n",
       "      <td>GSM877130</td>\n",
       "      <td>75.0</td>\n",
       "      <td>C</td>\n",
       "      <td>Male</td>\n",
       "      <td>Left</td>\n",
       "      <td>40.0</td>\n",
       "      <td>0.0</td>\n",
       "      <td>0.0</td>\n",
       "      <td>1.0</td>\n",
       "    </tr>\n",
       "  </tbody>\n",
       "</table>\n",
       "</div>"
      ],
      "text/plain": [
       "   Unnamed: 0     ID_REF  Age (in years) Dukes Stage  Gender Location  \\\n",
       "0           0  GSM877126            62.0           A    Male     Left   \n",
       "1           1  GSM877127            77.0           B    Male     Left   \n",
       "2           2  GSM877128            66.0           C  Female     Left   \n",
       "3           3  GSM877129            72.0           D  Female     Left   \n",
       "4           4  GSM877130            75.0           C    Male     Left   \n",
       "\n",
       "   DFS (in months)  DFS event  Adj_Radio  Adj_Chem  \n",
       "0            108.0        0.0        1.0       0.0  \n",
       "1             40.0        1.0        1.0       0.0  \n",
       "2             49.0        0.0        1.0       0.0  \n",
       "3             45.0        0.0        1.0       1.0  \n",
       "4             40.0        0.0        0.0       1.0  "
      ]
     },
     "execution_count": 3,
     "metadata": {},
     "output_type": "execute_result"
    }
   ],
   "source": [
    "data = pd.read_csv('Colorectal Cancer Patient Data.csv')\n",
    "data.head()"
   ]
  },
  {
   "cell_type": "code",
   "execution_count": 4,
   "id": "b633e4f6",
   "metadata": {},
   "outputs": [
    {
     "name": "stdout",
     "output_type": "stream",
     "text": [
      "<class 'pandas.core.frame.DataFrame'>\n",
      "RangeIndex: 63 entries, 0 to 62\n",
      "Data columns (total 10 columns):\n",
      " #   Column           Non-Null Count  Dtype  \n",
      "---  ------           --------------  -----  \n",
      " 0   Unnamed: 0       63 non-null     int64  \n",
      " 1   ID_REF           62 non-null     object \n",
      " 2   Age (in years)   62 non-null     float64\n",
      " 3   Dukes Stage      62 non-null     object \n",
      " 4   Gender           62 non-null     object \n",
      " 5   Location         62 non-null     object \n",
      " 6   DFS (in months)  62 non-null     float64\n",
      " 7   DFS event        62 non-null     float64\n",
      " 8   Adj_Radio        62 non-null     float64\n",
      " 9   Adj_Chem         62 non-null     float64\n",
      "dtypes: float64(5), int64(1), object(4)\n",
      "memory usage: 5.0+ KB\n"
     ]
    }
   ],
   "source": [
    "data.info()"
   ]
  },
  {
   "cell_type": "code",
   "execution_count": null,
   "id": "cf318c08",
   "metadata": {},
   "outputs": [],
   "source": []
  },
  {
   "cell_type": "code",
   "execution_count": null,
   "id": "7ac49c87",
   "metadata": {},
   "outputs": [],
   "source": []
  }
 ],
 "metadata": {
  "kernelspec": {
   "display_name": "Python 3",
   "language": "python",
   "name": "python3"
  },
  "language_info": {
   "codemirror_mode": {
    "name": "ipython",
    "version": 3
   },
   "file_extension": ".py",
   "mimetype": "text/x-python",
   "name": "python",
   "nbconvert_exporter": "python",
   "pygments_lexer": "ipython3",
   "version": "3.8.8"
  }
 },
 "nbformat": 4,
 "nbformat_minor": 5
}
